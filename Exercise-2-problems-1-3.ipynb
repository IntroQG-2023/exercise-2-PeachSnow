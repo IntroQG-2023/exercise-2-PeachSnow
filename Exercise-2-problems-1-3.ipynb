{
 "cells": [
  {
   "cell_type": "markdown",
   "metadata": {
    "deletable": false,
    "editable": false,
    "nbgrader": {
     "cell_type": "markdown",
     "checksum": "6fd800e3fd75cbfde1b15dfedf9ef507",
     "grade": false,
     "grade_id": "cell-831414fad4f17ee7",
     "locked": true,
     "schema_version": 3,
     "solution": false
    }
   },
   "source": [
    "# Exercise 2: Comparing data to predictions (20 points)\n",
    "\n",
    "The exercise this week will allow you to gain some experience with comparing data to predictions, such as how well two variables are correlated.\n",
    "\n",
    "### Tips for completing this exercise\n",
    "\n",
    "- Use **exactly** the same variable names as in the instructions because your answers will be automatically graded, and the tests that grade your answers rely on following the same formatting or variable naming as in the instructions.\n",
    "- **Please do not**:\n",
    "\n",
    "    - **Change the file names**. Do all of your editing in the provided `Exercise-2-problems-1-3.ipynb` file (this file).\n",
    "    - **Copy/paste cells in this notebook**. We use an automated grading system that will fail if there are copies of code cells.\n",
    "    - **Change the existing cell types**. You can add cells, but changing the cell types for existing cells (from code to markdown, for example) will also cause the automated grader to fail."
   ]
  },
  {
   "cell_type": "markdown",
   "metadata": {
    "deletable": false,
    "editable": false,
    "nbgrader": {
     "cell_type": "markdown",
     "checksum": "071f8577cbfe2387736a86a0fff0b4c9",
     "grade": false,
     "grade_id": "cell-ea1f8c45674e4d11",
     "locked": true,
     "schema_version": 3,
     "solution": false,
     "task": false
    }
   },
   "source": [
    "## AI tool usage agreement\n",
    "\n",
    "**Enter your name in the cell below** to confirm that you have followed the [course guidelines on the use of AI tools](https://introqg-site.readthedocs.io/en/latest/general-info/ai-tools.html) and understand that misuse of AI tools is considered cheating."
   ]
  },
  {
   "cell_type": "markdown",
   "metadata": {
    "deletable": false,
    "nbgrader": {
     "cell_type": "markdown",
     "checksum": "4bf1792def96077b38161f120b7fe3e2",
     "grade": true,
     "grade_id": "AI-LLM_statement",
     "locked": false,
     "points": 0,
     "schema_version": 3,
     "solution": true,
     "task": false
    }
   },
   "source": [
    "Name: Qi-fan Wu"
   ]
  },
  {
   "cell_type": "markdown",
   "metadata": {},
   "source": [
    "## Problem 1: Linear data regression for detecting changing climate (8.5 points)\n",
    "\n",
    "For this problem we will again use the NOAA climate data from Exercises 6 and 7 of the [Geo-Python course](https://geo-python.github.io) with a slight twist. As a reminder, you will be working with a climate data file from the [US National Oceanographic and Atmospheric Administration (NOAA) climate database](https://www.ncdc.noaa.gov/cdo-web/). In order to jump right into things, we have provided you with [a data file that has already been processed](data/seasonal-temps.csv) containing the means and standard deviations of seasonal temperatures (in Celsius) for winter and summer for the years 1953-2019. The first 5 lines of the data file are:\n",
    "\n",
    "```\n",
    "Year,Winter mean,Winter std,Summer mean,Summer std\n",
    "1953,-5.600255,6.126864,16.406055,3.934636\n",
    "1954,-6.244444,6.804128,15.292479,3.890385\n",
    "1955,-4.430118,6.128557,16.218130,5.347337\n",
    "1956,-10.640902,8.521185,14.641628,4.101369\n",
    "```\n",
    "\n",
    "Your task is to load this data and use a least squares regression to fit trendlines to the temperature data.\n",
    "\n",
    "*If you're looking for a challenge, you are welcome to load in the [original data file from Exerise 6 (029740.txt)](https://geo-python-site.readthedocs.io/en/latest/notebooks/L6/advanced-data-processing-with-pandas.html) and process it as was done for Exercises 6 and 7 as a starting point for this problem. As a reminder, the original data file has daily mean, minimum, and maximum temperatures for the Helsinki-Vantaa airport weather station from January 1952-October 2019. Be aware that if you process the data yourself you may get slightly different values for the calculations below.*\n",
    "\n",
    "### Scores for this problem\n",
    "\n",
    "**Your score on this problem will be based on following criteria**:\n",
    "\n",
    "- Reading the in the data file for this exercise\n",
    "- Properly converting the linear regressions formulas to a Python function and adding it to your `introqg_functions.py` script file from Exercise 1\n",
    "- Calculating the least-squares regression lines for summer and winter, for two different time periods\n",
    "- Plotting your results\n",
    "- Including comments that explain what most lines in the code do\n",
    "- Uploading your notebook **and script file** to your GitHub repository for this week's exercise"
   ]
  },
  {
   "cell_type": "markdown",
   "metadata": {
    "deletable": false,
    "editable": false,
    "nbgrader": {
     "cell_type": "markdown",
     "checksum": "7a58731896296bee660fc66b1430e1ee",
     "grade": false,
     "grade_id": "cell-4cd20c95922b665e",
     "locked": true,
     "schema_version": 3,
     "solution": false,
     "task": false
    }
   },
   "source": [
    "### Part 0: Copying and testing your script file from Exercise 1 (0 points)\n",
    "\n",
    "The first task in this problem is to copy your `introqg_functions.py` script file from Exercise 1 to the directory containing this notebook and then run the cell below to ensure it has been copied and is functioning as expected. Note: We will only check some of the functions in this file using the tests below, not all of them.\n",
    "\n",
    "- Copy your `introqg_functions.py` script file from Exercise 1 to the directory containing this notebook\n",
    "- Run the tests below"
   ]
  },
  {
   "cell_type": "code",
   "execution_count": 1,
   "metadata": {
    "deletable": false,
    "editable": false,
    "nbgrader": {
     "cell_type": "code",
     "checksum": "b26d8267cee71fd98eb6a103733d3085",
     "grade": false,
     "grade_id": "cell-9983b06bbb2e9e6d",
     "locked": true,
     "schema_version": 3,
     "solution": false,
     "task": false
    },
    "tags": []
   },
   "outputs": [
    {
     "name": "stdout",
     "output_type": "stream",
     "text": [
      "Mean for list1: 0.400.\n",
      "Standard deviation for list1: 6.119.\n",
      "Standard error for list1: 2.736.\n",
      "\n",
      "All tests pass! You are ready to proceed with this exercise.\n"
     ]
    }
   ],
   "source": [
    "# These tests with a small list should work\n",
    "from nose.tools import assert_equal\n",
    "from introqg_functions import mean, stddev, stderr\n",
    "\n",
    "# Test mean function with some lists\n",
    "list1 = [4, 2, 8, -2, -10]\n",
    "\n",
    "# Calculate list means\n",
    "list1_mean = mean(list1)\n",
    "list1_stddev = stddev(list1)\n",
    "list1_stderr = stderr(list1)\n",
    "\n",
    "# Print mean values\n",
    "print(f\"Mean for list1: {list1_mean:.3f}.\")\n",
    "print(f\"Standard deviation for list1: {list1_stddev:.3f}.\")\n",
    "print(f\"Standard error for list1: {list1_stderr:.3f}.\")\n",
    "\n",
    "# Check that the mean values are correct\n",
    "assert_equal(round(list1_mean, 3), 0.400)\n",
    "assert_equal(round(list1_stddev, 3), 6.119)\n",
    "assert_equal(round(list1_stderr, 3), 2.736)\n",
    "\n",
    "# Print message if it is safe to continue\n",
    "print(\"\\nAll tests pass! You are ready to proceed with this exercise.\")"
   ]
  },
  {
   "cell_type": "markdown",
   "metadata": {
    "deletable": false,
    "editable": false,
    "nbgrader": {
     "cell_type": "markdown",
     "checksum": "e6bdf561bc9f9673f79543ecb7dacb6f",
     "grade": false,
     "grade_id": "cell-623bc0391667345b",
     "locked": true,
     "schema_version": 3,
     "solution": false
    }
   },
   "source": [
    "### Part 1: Reading the data file (1 point)\n",
    "\n",
    "Your first task is to read in [the data file for this problem](data/seasonal-temps.csv).\n",
    "\n",
    "- For this, you should use the Pandas `read_csv()` funtion to read in the data file [data/seasonal-temps.csv](data/seasonal-temps.csv) into the variable `data`\n",
    "    - You do not need to skip any rows or specify an index column"
   ]
  },
  {
   "cell_type": "code",
   "execution_count": 25,
   "metadata": {
    "deletable": false,
    "nbgrader": {
     "cell_type": "code",
     "checksum": "88691601966f30662c0b680faa7e78c8",
     "grade": false,
     "grade_id": "problem_1_ag_p1_read_data",
     "locked": false,
     "schema_version": 3,
     "solution": true
    },
    "tags": []
   },
   "outputs": [],
   "source": [
    "# Import Pandas and NumPy\n",
    "import pandas as pd\n",
    "\n",
    "data = None\n",
    "\n",
    "# YOUR CODE HERE\n",
    "# Reading the data into a Pandas DataFrame\n",
    "data = pd.read_csv('data/seasonal-temps.csv')   # David said that I can have an extended dealine, because I did the wrong Exercise 2 on Geo-Python-2023\n",
    "#raise NotImplementedError()"
   ]
  },
  {
   "cell_type": "code",
   "execution_count": 3,
   "metadata": {
    "deletable": false,
    "editable": false,
    "nbgrader": {
     "cell_type": "code",
     "checksum": "d7ae4ee06982b0e17fbb2da6343827b5",
     "grade": true,
     "grade_id": "problem_1_ag_p1_read_data_tests",
     "locked": true,
     "points": 1,
     "schema_version": 3,
     "solution": false
    },
    "tags": []
   },
   "outputs": [
    {
     "name": "stdout",
     "output_type": "stream",
     "text": [
      "First row of the DataFrame:\n",
      "    Year  Winter mean  Winter std  Summer mean  Summer std\n",
      "0  1953    -5.600255    6.126864    16.406055    3.934636\n"
     ]
    }
   ],
   "source": [
    "# This test should print the first row of the data file\n",
    "print(\"First row of the DataFrame:\\n\", data.head(1))\n"
   ]
  },
  {
   "cell_type": "markdown",
   "metadata": {
    "deletable": false,
    "editable": false,
    "nbgrader": {
     "cell_type": "markdown",
     "checksum": "f2f6af575f77f52df259af76c9136c41",
     "grade": false,
     "grade_id": "cell-635b64c41547c355",
     "locked": true,
     "schema_version": 3,
     "solution": false
    }
   },
   "source": [
    "### Part 2: A linear regression function (1.5 points)\n",
    "\n",
    "Your next task in this problem is to create a function that calculates the slopes `B` and *y*-intercepts `A` for [unweighted linear regression lines](https://introqg-site.readthedocs.io/en/latest/notebooks/L2/least-squares.html). As you may recall from the lesson, `A` and `B` can be calculated as\n",
    "\n",
    "\\begin{equation}\n",
    "  \\Large\n",
    "  A = \\frac{\\sum{x^2} \\sum{y} - \\sum{x} \\sum{x y}}{\\Delta}\n",
    "\\end{equation}\n",
    "\n",
    "and\n",
    "\n",
    "\\begin{equation}\n",
    "  \\Large\n",
    "  B = \\frac{N \\sum{x y} - \\sum{x} \\sum{y}}{\\Delta},\n",
    "\\end{equation}\n",
    "\n",
    "where\n",
    "\n",
    "\\begin{equation}\n",
    "  \\Large\n",
    "  \\Delta = N \\sum{x^2} - \\left(\\sum{x} \\right)^2.\n",
    "\\end{equation}\n",
    "\n",
    "- Create a function `linregress` in your `introqg_functions.py` script file that returns the slope `B` and *y*-intercept `A` for a regression line for data `x` and `y`.\n",
    "    - **NOTE**: You can return both `A` and `B` in the same `return` statement by separating the values with a comma\n",
    "    - **NOTE**: You may need to restart your kernel in order for the new function to be imported. You may receive an `ImportError` otherwise."
   ]
  },
  {
   "cell_type": "code",
   "execution_count": 4,
   "metadata": {
    "deletable": false,
    "nbgrader": {
     "cell_type": "code",
     "checksum": "9c5d956d9ebbcb62f365bac1d5c36198",
     "grade": false,
     "grade_id": "problem_1_ag_p2_function",
     "locked": false,
     "schema_version": 3,
     "solution": true
    },
    "tags": []
   },
   "outputs": [],
   "source": [
    "# Import your new function below using the format \"from introqg_functions import linregress\"\n",
    "# (just copy and paste the text in quotes above in place of \"raise NotImplementedError()\")\n",
    "\n",
    "# YOUR CODE HERE\n",
    "from introqg_functions import linregress\n",
    "#raise NotImplementedError()"
   ]
  },
  {
   "cell_type": "code",
   "execution_count": 5,
   "metadata": {
    "deletable": false,
    "editable": false,
    "nbgrader": {
     "cell_type": "code",
     "checksum": "7d2dad43b60799ae6b3774ea98f15eac",
     "grade": true,
     "grade_id": "problem_1_ag_p2_function_tests",
     "locked": true,
     "points": 1.5,
     "schema_version": 3,
     "solution": false
    },
    "tags": []
   },
   "outputs": [
    {
     "name": "stdout",
     "output_type": "stream",
     "text": [
      "Slope and intercept for dataset 1: 1.0000 and 0.0000.\n",
      "Slope and intercept for dataset 2: 0.9750 and 0.0799.\n"
     ]
    }
   ],
   "source": [
    "# These visible tests with fake data should work\n",
    "import numpy as np\n",
    "from nose.tools import ok_, assert_equal\n",
    "\n",
    "# Fake data for linregress tests\n",
    "x1 = np.array([1.0, 2.0])\n",
    "y1 = np.array([1.0, 2.0])\n",
    "x2 = np.array([1.0, 2.0, 2.5, 3.6, 4.2, 5.9])\n",
    "y2 = np.array([1.0, 2.0, 2.7, 3.1, 4.7, 5.7])\n",
    "\n",
    "# Fake line slopes, intercepts\n",
    "a1, b1 = linregress(x1, y1)\n",
    "a2, b2 = linregress(x2, y2)\n",
    "\n",
    "# Print results\n",
    "print(f\"Slope and intercept for dataset 1: {b1:.4f} and {a1:.4f}.\")\n",
    "print(f\"Slope and intercept for dataset 2: {b2:.4f} and {a2:.4f}.\")\n",
    "\n",
    "# Check that the linregress function works\n",
    "assert_equal(a1, 0.0)\n",
    "assert_equal(b1, 1.0)\n",
    "assert_equal(round(a2, 4), 0.0799)\n",
    "assert_equal(round(b2, 4), 0.975)"
   ]
  },
  {
   "cell_type": "markdown",
   "metadata": {
    "deletable": false,
    "editable": false,
    "nbgrader": {
     "cell_type": "markdown",
     "checksum": "272dc79f3831673a54fbc8c333f262e7",
     "grade": false,
     "grade_id": "cell-e014e13b5418c567",
     "locked": true,
     "schema_version": 3,
     "solution": false,
     "task": false
    }
   },
   "source": [
    "### Part 3: Calculating seasonal regression lines (1.5 points)\n",
    "\n",
    "Now we can calculate the slopes and y-intercepts for our weather data to determine how summer and winter temperatures have varied over the observation period. We'll do this for two time ranges: The **entire observation period** and the **last ~20 years (2000-2019)**.\n",
    "\n",
    "- Use your `linregress` function to calculate the slopes and intercepts for summer and winter for the time periods mentioned above (the entire range of years, and 2000-2019).\n",
    "You should name these values as follows:\n",
    "    - Entire range of years: `A_winter` and `B_winter` for winter, `A_summer` and `B_summer` for summer\n",
    "    - Last 20 years: `A_winter20` and `B_winter20` for winter, `A_summer20` and `B_summer20` for summer\n",
    "\n",
    "**Hint**: In this problem, `x` will be your time data, and `y` will be your temperatures."
   ]
  },
  {
   "cell_type": "code",
   "execution_count": 6,
   "metadata": {
    "deletable": false,
    "nbgrader": {
     "cell_type": "code",
     "checksum": "28d5c7da20ca4e46750fbeb5488fc459",
     "grade": false,
     "grade_id": "problem_1_ag_p3_season_calc",
     "locked": false,
     "schema_version": 3,
     "solution": true,
     "task": false
    },
    "tags": []
   },
   "outputs": [],
   "source": [
    "# Your calculations go below.\n",
    "# Note: Replace both of the 'None' values with a single call of linregress() on each line\n",
    "A_winter, B_winter = None, None\n",
    "A_summer, B_summer = None, None\n",
    "A_winter20, B_winter20 = None, None\n",
    "A_summer20, B_summer20 = None, None\n",
    "\n",
    "# YOUR CODE HERE\n",
    "# Extract the years and mean temperatures\n",
    "years = data['Year'].values\n",
    "winter_means = data['Winter mean'].values\n",
    "summer_means = data['Summer mean'].values\n",
    "# Calculate slopes and intercepts for the entire observation period\n",
    "A_winter, B_winter = linregress(years, winter_means)\n",
    "A_summer, B_summer = linregress(years, summer_means)\n",
    "# Filter data for the last 20 years (2000-2019)\n",
    "data_2000_onwards = data[data['Year'] >= 2000]\n",
    "recent_years = data_2000_onwards['Year'].values\n",
    "recent_winter_means = data_2000_onwards['Winter mean'].values\n",
    "recent_summer_means = data_2000_onwards['Summer mean'].values\n",
    "# Calculate slopes and intercepts for the last 20 years\n",
    "A_winter20, B_winter20 = linregress(recent_years, recent_winter_means)\n",
    "A_summer20, B_summer20 = linregress(recent_years, recent_summer_means)\n",
    "#raise NotImplementedError()"
   ]
  },
  {
   "cell_type": "code",
   "execution_count": 7,
   "metadata": {
    "deletable": false,
    "editable": false,
    "nbgrader": {
     "cell_type": "code",
     "checksum": "41d335782574df5c95b1b83a1e343a48",
     "grade": true,
     "grade_id": "problem_1_ag_p3_season_calc_variable_tests",
     "locked": true,
     "points": 0.5,
     "schema_version": 3,
     "solution": false,
     "task": false
    },
    "tags": []
   },
   "outputs": [
    {
     "name": "stdout",
     "output_type": "stream",
     "text": [
      "Winter (all years) slope: 0.0451. Expected value: 0.0451.\n",
      "Winter (all years) intercept -94.5. Expected value: -94.5.\n"
     ]
    }
   ],
   "source": [
    "# This test should work\n",
    "print(f\"Winter (all years) slope: {B_winter:.4f}. Expected value: 0.0451.\")\n",
    "print(f\"Winter (all years) intercept {A_winter:.1f}. Expected value: -94.5.\")\n"
   ]
  },
  {
   "cell_type": "code",
   "execution_count": 8,
   "metadata": {
    "deletable": false,
    "editable": false,
    "nbgrader": {
     "cell_type": "code",
     "checksum": "066e8ec3c0c9f141cd5cfb85304e15cc",
     "grade": true,
     "grade_id": "problem_1_ag_p3_season_calc_value_tests",
     "locked": true,
     "points": 1,
     "schema_version": 3,
     "solution": false,
     "task": false
    },
    "tags": []
   },
   "outputs": [
    {
     "name": "stdout",
     "output_type": "stream",
     "text": [
      "Summer (last 20 years) slope: 0.0028. Expected value: 0.0028.\n",
      "Summer (last 20 years) intercept: 11.1. Expected value: 11.1.\n"
     ]
    }
   ],
   "source": [
    "# This test should work\n",
    "print(f\"Summer (last 20 years) slope: {B_summer20:.4f}. Expected value: 0.0028.\")\n",
    "print(f\"Summer (last 20 years) intercept: {A_summer20:.1f}. Expected value: 11.1.\")\n"
   ]
  },
  {
   "cell_type": "markdown",
   "metadata": {
    "deletable": false,
    "editable": false,
    "nbgrader": {
     "cell_type": "markdown",
     "checksum": "09ba375920d3984ef6c45d63ac59c510",
     "grade": false,
     "grade_id": "cell-d54feb83f47b84a6",
     "locked": true,
     "schema_version": 3,
     "solution": false
    }
   },
   "source": [
    "### Part 4: Plotting your results (4.5 points)\n",
    "\n",
    "Your last coding task for this problem is to create some plots of your seasonal temperature data and their trendlines. An example of the types of plots you should create are below.\n",
    "**Note**: You should create two separate plots for the different time periods, not use subplots as shown in the example below.\n",
    "\n",
    "![Temperature trends in Helsinki](img/temp-slopes.png)\n",
    "\n",
    "- Create 2 plots of the seasonal temperature data: (**1**) one for the entire time covered in the data and (**2**) another for the last 20 years of data\n",
    "    - Plot the seasonal average temperature data as a Pandas scatter plot with error bars showing the standard deviation in seasonal temperature\n",
    "    - Also plot the regression lines for each season as well to compare to the yearly temperature data. You may want to consult [the hints for this week's exercise](https://introqg-site.readthedocs.io/en/latest/lessons/L2/exercise-2.html) about how to plot the regression lines.\n",
    "    - Plot the temperature data for both seasons on the same plot, using a warm color (e.g., red) for summer and a cool color (e.g., blue) for winter. You can find some convenient color names you can use in the [Matplotlib documentation online](https://matplotlib.org/stable/gallery/color/named_colors.html).\n",
    "    - Be sure to set the figure size to be slightly larger, as was done in Exercise 1\n",
    "- Include axis labels, a title and a legend for each plot, as well as text displaying the slope of the regression lines for both the summer and winter seasons\n",
    "    - If your plot legend is empty, be sure that you have a label included for the scatter plot for each season with the text name of that season\n",
    "- Add figure captions in the Markdown cell below each Python cell for your plots that describe the plots as if they were in a scientific journal article"
   ]
  },
  {
   "cell_type": "code",
   "execution_count": 9,
   "metadata": {
    "deletable": false,
    "nbgrader": {
     "cell_type": "code",
     "checksum": "4f7f4e687534e4a86dd41dab7f168b98",
     "grade": true,
     "grade_id": "problem_1_mg_p4_plot_all",
     "locked": false,
     "points": 1.5,
     "schema_version": 3,
     "solution": true
    },
    "tags": []
   },
   "outputs": [
    {
     "data": {
      "image/png": "[encoded data removed]",
      "text/plain": [
       "<Figure size 1000x600 with 1 Axes>"
      ]
     },
     "metadata": {},
     "output_type": "display_data"
    }
   ],
   "source": [
    "# Plot for all years goes here\n",
    "\n",
    "ax = None\n",
    "\n",
    "# YOUR CODE HERE\n",
    "import matplotlib.pyplot as plt\n",
    "# Define colors for the seasons\n",
    "summer_color = 'salmon'\n",
    "winter_color = 'royalblue'\n",
    "# Plot for all years\n",
    "plt.figure(figsize=(10, 6))\n",
    "plt.errorbar(data['Year'], data['Summer mean'], yerr=data['Summer std'], fmt='o', color=summer_color, label='Summer')\n",
    "plt.errorbar(data['Year'], data['Winter mean'], yerr=data['Winter std'], fmt='o', color=winter_color, label='Winter')\n",
    "# Calculate the regression line values\n",
    "years_extended = np.linspace(data['Year'].min(), data['Year'].max(), 100)\n",
    "summer_trend = A_summer + B_summer * years_extended\n",
    "winter_trend = A_winter + B_winter * years_extended\n",
    "# Plot the regression lines\n",
    "plt.plot(years_extended, summer_trend, color=summer_color, label=f'Summer slope: {B_summer:.3f}°C/year')\n",
    "plt.plot(years_extended, winter_trend, color=winter_color, label=f'Winter slope: {B_winter:.3f}°C/year')\n",
    "# Add labels, title, legend\n",
    "plt.xlabel('Year')\n",
    "plt.ylabel('Temperature (°C)')\n",
    "plt.title('Helsinki-Vantaa Climate Trends 1952-2019')\n",
    "plt.legend()\n",
    "# Show the plot\n",
    "plt.show()\n",
    "#raise NotImplementedError()"
   ]
  },
  {
   "cell_type": "markdown",
   "metadata": {
    "deletable": false,
    "nbgrader": {
     "cell_type": "markdown",
     "checksum": "2a87109e642a8848a67dc639c901d9ea",
     "grade": true,
     "grade_id": "problem_1_mg_p4_plot_all_caption",
     "locked": false,
     "points": 0.5,
     "schema_version": 3,
     "solution": true
    }
   },
   "source": [
    "**Figure Caption:** Long-term climate trends at Helsinki-Vantaa from 1952 to 2019. The scatter plot displays the mean seasonal temperatures with error bars representing the standard deviation for each year. The linear trendlines indicate a gradual increase in both summer (red) and winter (blue) mean temperatures over the 67-year period, with winter temperatures increasing at a slightly higher rate than summer temperatures."
   ]
  },
  {
   "cell_type": "code",
   "execution_count": 11,
   "metadata": {
    "deletable": false,
    "nbgrader": {
     "cell_type": "code",
     "checksum": "40d6d94a5addc5c16ffde19d1fddb409",
     "grade": true,
     "grade_id": "problem_1_mg_p4_plot_20",
     "locked": false,
     "points": 2,
     "schema_version": 3,
     "solution": true
    },
    "tags": []
   },
   "outputs": [
    {
     "data": {
      "image/png": "[encoded data removed]",
      "text/plain": [
       "<Figure size 1000x600 with 1 Axes>"
      ]
     },
     "metadata": {},
     "output_type": "display_data"
    }
   ],
   "source": [
    "# Plot for last 20 years goes here\n",
    "\n",
    "ax2 = None\n",
    "\n",
    "# YOUR CODE HERE\n",
    "plt.figure(figsize=(10, 6))\n",
    "plt.errorbar(recent_years, recent_summer_means, yerr=data_2000_onwards['Summer std'], fmt='o', color=summer_color, label='Summer')\n",
    "plt.errorbar(recent_years, recent_winter_means, yerr=data_2000_onwards['Winter std'], fmt='o', color=winter_color, label='Winter')\n",
    "# Calculate the regression line values for the last 20 years\n",
    "summer_trend_20 = A_summer20 + B_summer20 * recent_years\n",
    "winter_trend_20 = A_winter20 + B_winter20 * recent_years\n",
    "# Plot the regression lines for the last 20 years\n",
    "plt.plot(recent_years, summer_trend_20, color=summer_color, label=f'Summer slope: {B_summer20:.3f}°C/year')\n",
    "plt.plot(recent_years, winter_trend_20, color=winter_color, label=f'Winter slope: {B_winter20:.3f}°C/year')\n",
    "# Add labels, title, legend\n",
    "plt.xlabel('Year')\n",
    "plt.ylabel('Temperature (°C)')\n",
    "plt.title('Helsinki-Vantaa Climate Trends 2000-2019')\n",
    "plt.legend()\n",
    "# Show the plot\n",
    "plt.show()\n",
    "#raise NotImplementedError()"
   ]
  },
  {
   "cell_type": "markdown",
   "metadata": {
    "deletable": false,
    "nbgrader": {
     "cell_type": "markdown",
     "checksum": "787c3645af0b2745f51986a9a22d4631",
     "grade": true,
     "grade_id": "problem_1_mg_p4_plot_20_caption",
     "locked": false,
     "points": 0.5,
     "schema_version": 3,
     "solution": true
    }
   },
   "source": [
    "**Figure Caption:** Short-term climate trends at Helsinki-Vantaa from 2000 to 2019. This scatter plot focuses on the last two decades, showing the mean seasonal temperatures along with their standard deviations. The trendlines suggest a continuing rise in winter temperatures, with a more pronounced rate of increase compared to the overall period. Summer temperatures show a marginal increase, highlighted by the shallower slope of the trendline."
   ]
  },
  {
   "cell_type": "markdown",
   "metadata": {
    "deletable": false,
    "editable": false,
    "nbgrader": {
     "cell_type": "markdown",
     "checksum": "f2817887627b42a4744130cf2567b188",
     "grade": false,
     "grade_id": "cell-6850ec8b78f8b9a4",
     "locked": true,
     "schema_version": 3,
     "solution": false,
     "task": false
    }
   },
   "source": [
    "## Problem 2 - Linear correlation: Is a line a good fit for our data? (6 points)\n",
    "\n",
    "In Problem 1 we used least squares regressions to calculate lines that best fit our data. One thing we did not consider, however, was whether a line was a suitable model for our data. To consider this another way, we could ask ourselves how well do our data plot on a line? This question will be the focus of Problem 2, where we will calculate the linear correlation coefficient $r$ to explore how well our data fall on a line. Notably, in doing this we will *not* consider the standard deviations in our seasonal temperatures, only the mean values for the different seasons.\n",
    "\n",
    "### Scores for this problem\n",
    "\n",
    "**Your score on this problem will be based on following criteria**:\n",
    "\n",
    "- Properly converting the linear correlation coefficient formula to a Python function and adding it to your `introqg_functions.py` script file.\n",
    "- Calculating linear corelation coefficients for summer and winter and for the two different time periods\n",
    "- Plotting your results\n",
    "- Including comments that explain what most lines in the code do\n",
    "- Uploading your notebook and modified script file to your GitHub repository for this week's exercise"
   ]
  },
  {
   "cell_type": "markdown",
   "metadata": {
    "deletable": false,
    "editable": false,
    "nbgrader": {
     "cell_type": "markdown",
     "checksum": "008e75b1d1b322b916e824ec7451273a",
     "grade": false,
     "grade_id": "cell-56b31de6ee98b3bb",
     "locked": true,
     "schema_version": 3,
     "solution": false,
     "task": false
    }
   },
   "source": [
    "### Part 1: A correlation coefficient function (1.5 points)\n",
    "\n",
    "As we have seen in this week's lesson, the correlation coefficient $r$ can be used to determine how well two variables are linearly correlated with one another. In other words, how well does a line relate the two. Mathematically, we can define the correlation coefficient $r$ as\n",
    "\n",
    "\\begin{equation}\n",
    "  \\Large\n",
    "  r = \\frac{\\sum{\\left(x_{i} - \\bar{x} \\right)\\left(y_{i} - \\bar{y} \\right)}}{\\sqrt{\\sum{\\left(x_{i} - \\bar{x} \\right)^2} \\sum{\\left(y_{i} - \\bar{y} \\right)^2}}},\n",
    "\\end{equation}\n",
    "\n",
    "where $x_{i}$ is the $i$th value along the $x$-axis, $\\bar{x}$ is the mean of the values on the $x$-axis, and similarly for the values of $y$.\n",
    "\n",
    "Your task in this part of the problem is to make a function for calculating $r$.\n",
    "\n",
    "- Create a function `pearson()` in your `introqg_functions.py` script file that returns the correlation coefficient $r$ between two variables `x` and `y`"
   ]
  },
  {
   "cell_type": "code",
   "execution_count": 12,
   "metadata": {
    "deletable": false,
    "nbgrader": {
     "cell_type": "code",
     "checksum": "85da6943e874012b1e19096e1c9fa35a",
     "grade": false,
     "grade_id": "problem_2_ag_p1_function",
     "locked": false,
     "schema_version": 3,
     "solution": true,
     "task": false
    },
    "tags": []
   },
   "outputs": [],
   "source": [
    "# Import your new function below using the format \"from introqg_functions import pearson\"\n",
    "# (just copy and paste the text in quotes above in place of \"raise NotImplementedError()\")\n",
    "\n",
    "# YOUR CODE HERE\n",
    "from introqg_functions import pearson\n",
    "#raise NotImplementedError()"
   ]
  },
  {
   "cell_type": "code",
   "execution_count": 13,
   "metadata": {
    "deletable": false,
    "editable": false,
    "nbgrader": {
     "cell_type": "code",
     "checksum": "260beec82d47215c482a23505dec4526",
     "grade": true,
     "grade_id": "problem_2_ag_p1_function_tests",
     "locked": true,
     "points": 1.5,
     "schema_version": 3,
     "solution": false,
     "task": false
    },
    "tags": []
   },
   "outputs": [
    {
     "name": "stdout",
     "output_type": "stream",
     "text": [
      "Correlation coefficient for dataset 1: 0.9042.\n",
      "Correlation coefficient for dataset 2: -0.8156.\n"
     ]
    }
   ],
   "source": [
    "# These visible tests with fake data should work\n",
    "from nose.tools import ok_, assert_equal\n",
    "\n",
    "# Fake data for pearson tests\n",
    "x1 = np.array([1.0, 2.0, 3.0])\n",
    "y1 = np.array([1.0, 2.0, 2.1])\n",
    "x2 = np.array([1.0, 2.0, 2.5, 3.6, 4.2, 5.9])\n",
    "y2 = np.array([5.7, 4.2, 3.6, 5.4, 2.0, 1.0])\n",
    "\n",
    "# Fake correlation coefficients\n",
    "r1 = pearson(x1, y1)\n",
    "r2 = pearson(x2, y2)\n",
    "\n",
    "# Print results\n",
    "print(f\"Correlation coefficient for dataset 1: {r1:.4f}.\")\n",
    "print(f\"Correlation coefficient for dataset 2: {r2:.4f}.\")\n",
    "\n",
    "# Check that the pearson function works\n",
    "assert_equal(round(r1, 4), 0.9042)\n",
    "assert_equal(round(r2, 4), -0.8156)"
   ]
  },
  {
   "cell_type": "markdown",
   "metadata": {
    "deletable": false,
    "editable": false,
    "nbgrader": {
     "cell_type": "markdown",
     "checksum": "bebff83607b4fd8b8ef6bc68f73e07e8",
     "grade": false,
     "grade_id": "cell-e3d136273661ea67",
     "locked": true,
     "schema_version": 3,
     "solution": false,
     "task": false
    }
   },
   "source": [
    "### Part 2: Calculating correlation coefficients (1.5 points)\n",
    "\n",
    "Next, we can calculate the correlation coefficients for our weather data.\n",
    "\n",
    "- Calculate correlation coefficients for the summer and winter and for both time ranges (the entire range of years, and 2000-2019) using your `pearson()` function.\n",
    "You should name these values as follows:\n",
    "    - Entire range of years: `r_winter` for winter and `r_summer` for summer\n",
    "    - Last 20 years: `r_winter20` for winter, `r_summer20` for summer"
   ]
  },
  {
   "cell_type": "code",
   "execution_count": 14,
   "metadata": {
    "deletable": false,
    "nbgrader": {
     "cell_type": "code",
     "checksum": "0700ea605d2ca89d018b7bc1f0f7155b",
     "grade": false,
     "grade_id": "problem_2_ag_p2_r",
     "locked": false,
     "schema_version": 3,
     "solution": true,
     "task": false
    },
    "tags": []
   },
   "outputs": [],
   "source": [
    "r_winter = None\n",
    "r_summer = None\n",
    "r_winter20 = None\n",
    "r_summer20 = None\n",
    "\n",
    "# YOUR CODE HERE\n",
    "r_winter = pearson(years, winter_means)\n",
    "# Correlation coefficient for entire range of years for summer\n",
    "r_summer = pearson(years, summer_means)\n",
    "# Correlation coefficient for the last 20 years for winter\n",
    "r_winter20 = pearson(recent_years, recent_winter_means)\n",
    "# Correlation coefficient for the last 20 years for summer\n",
    "r_summer20 = pearson(recent_years, recent_summer_means)\n",
    "#raise NotImplementedError()"
   ]
  },
  {
   "cell_type": "code",
   "execution_count": 15,
   "metadata": {
    "deletable": false,
    "editable": false,
    "nbgrader": {
     "cell_type": "code",
     "checksum": "b8b752a1a6d15e0fc137378ef1131dc3",
     "grade": true,
     "grade_id": "problem_2_ag_p2_r_variable_tests",
     "locked": true,
     "points": 0.5,
     "schema_version": 3,
     "solution": false,
     "task": false
    },
    "tags": []
   },
   "outputs": [
    {
     "name": "stdout",
     "output_type": "stream",
     "text": [
      "Your winter (all years) correlation coefficient: 0.3145. Expected value: 0.3145.\n"
     ]
    }
   ],
   "source": [
    "# This test should work\n",
    "print(f\"Your winter (all years) correlation coefficient: {r_winter:.4f}. Expected value: 0.3145.\")\n"
   ]
  },
  {
   "cell_type": "code",
   "execution_count": 16,
   "metadata": {
    "deletable": false,
    "editable": false,
    "nbgrader": {
     "cell_type": "code",
     "checksum": "5b27748642892d65b776a76f5c76aa92",
     "grade": true,
     "grade_id": "problem_2_ag_p2_r_value_test",
     "locked": true,
     "points": 1,
     "schema_version": 3,
     "solution": false,
     "task": false
    },
    "tags": []
   },
   "outputs": [
    {
     "name": "stdout",
     "output_type": "stream",
     "text": [
      "Your summer (last 20 years) correlation coefficient: 0.0148. Expected value: 0.0148.\n"
     ]
    }
   ],
   "source": [
    "# This test should work\n",
    "print(f\"Your summer (last 20 years) correlation coefficient: {r_summer20:.4f}. Expected value: 0.0148.\")\n"
   ]
  },
  {
   "cell_type": "markdown",
   "metadata": {
    "deletable": false,
    "editable": false,
    "nbgrader": {
     "cell_type": "markdown",
     "checksum": "290d04e600fef20f09b06240cbc23643",
     "grade": false,
     "grade_id": "cell-91103535d6ea8ab4",
     "locked": true,
     "schema_version": 3,
     "solution": false,
     "task": false
    }
   },
   "source": [
    "### Part 3: Plotting your results, round 2 (3 points)\n",
    "\n",
    "Now we can generate a pair of plots showing the data along with the calculated $r$ values.\n",
    "\n",
    "- Create 2 plots of the seasonal temperature data: (**1**) one for the entire time covered in the data and (**2**) another for the last 20 years of data\n",
    "    - Plot the seasonal average temperature data as a Pandas scatter plot **without** error bars for the standard deviation in seasonal temperature\n",
    "    - Also include the regression lines for each season from Problem 1 to compare to the yearly temperature data. You may want to consult [the hints for this week's exercise](https://introqg-site.readthedocs.io/en/latest/lessons/L2/exercise-2.html) about how to plot the regression lines.\n",
    "    - Plot the temperature data for both seasons on the same plot, using a warm color (e.g., red) for summer and a cool color (e.g., blue) for winter. You can find some convenient color names you can use in the [Matplotlib documentation online](https://matplotlib.org/stable/gallery/color/named_colors.html).\n",
    "    - Be sure to set the figure size to be slightly larger, as was done in Exercise 1\n",
    "- Include axis labels, a title and a legend for each plot, as well as text displaying the correlation coefficients for both the summer and winter seasons\n",
    "    - If your plot legend is empty, be sure that you have a label included for the scatter plot for each season with the text name of that season\n",
    "- Add figure captions in the Markdown cell below each Python cell for your plots that describe the plots as if they were in a scientific journal article"
   ]
  },
  {
   "cell_type": "code",
   "execution_count": 17,
   "metadata": {
    "deletable": false,
    "nbgrader": {
     "cell_type": "code",
     "checksum": "3f6b1267589a0dc5e249e5c20d179220",
     "grade": true,
     "grade_id": "problem_2_mg_p3_plot_all",
     "locked": false,
     "points": 1,
     "schema_version": 3,
     "solution": true,
     "task": false
    },
    "tags": []
   },
   "outputs": [
    {
     "data": {
      "image/png": "[encoded data removed]",
      "text/plain": [
       "<Figure size 1000x600 with 1 Axes>"
      ]
     },
     "metadata": {},
     "output_type": "display_data"
    }
   ],
   "source": [
    "# Plot for all years goes here\n",
    "\n",
    "ax3 = None\n",
    "\n",
    "# YOUR CODE HERE\n",
    "# Define x-axis data years for the entire dataset\n",
    "x_all_years = data['Year']\n",
    "# Define y-axis data for winter and summer for the entire dataset\n",
    "y_winter_all = data['Winter mean']\n",
    "y_summer_all = data['Summer mean']\n",
    "# Calculate the y-values of the regression lines for the entire dataset\n",
    "y_winter_reg_all = A_winter + B_winter * x_all_years\n",
    "y_summer_reg_all = A_summer + B_summer * x_all_years\n",
    "# Plot for all years\n",
    "fig, ax3 = plt.subplots(figsize=(10, 6))\n",
    "# Scatter plot for winter and summer\n",
    "ax3.scatter(x_all_years, y_winter_all, label=f'Winter (r={r_winter:.2f})', color='royalblue')\n",
    "ax3.scatter(x_all_years, y_summer_all, label=f'Summer (r={r_summer:.2f})', color='salmon')\n",
    "# Regression lines for winter and summer\n",
    "ax3.plot(x_all_years, y_winter_reg_all, color='blue', label='Winter regression')\n",
    "ax3.plot(x_all_years, y_summer_reg_all, color='red', label='Summer regression')\n",
    "# Set labels and title\n",
    "ax3.set_xlabel('Year')\n",
    "ax3.set_ylabel('Temperature (°C)')\n",
    "ax3.set_title('Seasonal Temperature Trends in Helsinki-Vantaa')\n",
    "# Add legend\n",
    "ax3.legend()\n",
    "# Show plot\n",
    "plt.show()\n",
    "#raise NotImplementedError()"
   ]
  },
  {
   "cell_type": "markdown",
   "metadata": {
    "deletable": false,
    "nbgrader": {
     "cell_type": "markdown",
     "checksum": "6b3190893d1b76ad25e4ab4624aa0dda",
     "grade": true,
     "grade_id": "problem_2_mg_p3_plot_all_caption",
     "locked": false,
     "points": 0.5,
     "schema_version": 3,
     "solution": true,
     "task": false
    }
   },
   "source": [
    "**Figure Caption:** The scatter plot displays the seasonal temperature trends in Helsinki-Vantaa from 1952 to 2019. Each point represents the mean seasonal temperature for winter (blue) and summer (red), with the lines representing the linear regression trend for each season. The correlation coefficients for winter (r=0.31) and summer (r=0.45) suggest moderate positive linear relationships between the years and temperatures for both seasons, with summer temperatures showing a slightly stronger correlation."
   ]
  },
  {
   "cell_type": "code",
   "execution_count": 18,
   "metadata": {
    "deletable": false,
    "nbgrader": {
     "cell_type": "code",
     "checksum": "611e170fb24020d78c3cb568a240bcaf",
     "grade": true,
     "grade_id": "problem_2_mg_p3_plot_20",
     "locked": false,
     "points": 1,
     "schema_version": 3,
     "solution": true,
     "task": false
    },
    "tags": []
   },
   "outputs": [
    {
     "data": {
      "image/png": "[encoded data removed]",
      "text/plain": [
       "<Figure size 1000x600 with 1 Axes>"
      ]
     },
     "metadata": {},
     "output_type": "display_data"
    }
   ],
   "source": [
    "# Plot for the last 20 years goes here\n",
    "\n",
    "ax4 = None\n",
    "\n",
    "# YOUR CODE HERE\n",
    "# Define x-axis data (years) for the recent dataset\n",
    "x_recent_years = recent_years\n",
    "# Define y-axis data for winter and summer for the recent dataset\n",
    "y_winter_recent = recent_winter_means\n",
    "y_summer_recent = recent_summer_means\n",
    "# Calculate the y-values of the regression lines for the recent dataset\n",
    "y_winter_reg_recent = A_winter20 + B_winter20 * x_recent_years\n",
    "y_summer_reg_recent = A_summer20 + B_summer20 * x_recent_years\n",
    "# Plot for the last ~20 years\n",
    "fig, ax4 = plt.subplots(figsize=(10, 6))\n",
    "# Scatter plot for winter and summer\n",
    "ax4.scatter(x_recent_years, y_winter_recent, label=f'Winter (r={r_winter20:.2f})', color='royalblue')\n",
    "ax4.scatter(x_recent_years, y_summer_recent, label=f'Summer (r={r_summer20:.2f})', color='salmon')\n",
    "# Regression lines for winter and summer\n",
    "ax4.plot(x_recent_years, y_winter_reg_recent, color='blue', label='Winter regression')\n",
    "ax4.plot(x_recent_years, y_summer_reg_recent, color='red', label='Summer regression')\n",
    "# Set labels and title\n",
    "ax4.set_xlabel('Year')\n",
    "ax4.set_ylabel('Temperature (°C)')\n",
    "ax4.set_title('Recent Seasonal Temperature Trends in Helsinki-Vantaa')\n",
    "# Add legend\n",
    "ax4.legend()\n",
    "# Show plot\n",
    "plt.show()\n",
    "#raise NotImplementedError()"
   ]
  },
  {
   "cell_type": "markdown",
   "metadata": {
    "deletable": false,
    "nbgrader": {
     "cell_type": "markdown",
     "checksum": "dc3d821eddc9ed11e438def4039bfdcc",
     "grade": true,
     "grade_id": "problem_2_mg_p3_plot_20_caption",
     "locked": false,
     "points": 0.5,
     "schema_version": 3,
     "solution": true,
     "task": false
    }
   },
   "source": [
    "**Figure Caption:** This scatter plot illustrates the recent seasonal temperature trends in Helsinki-Vantaa from 2000 to 2019. The mean temperatures for each season are depicted with winter in blue and summer in red. The corresponding regression lines indicate the trend of temperatures over the last two decades. The correlation coefficients for winter (r=0.14) and summer (r=0.01) indicate a weak positive linear relationship for winter and no linear relationship for summer, suggesting that over the past 20 years, winter temperatures have a slight upward trend, while summer temperatures do not show a significant trend."
   ]
  },
  {
   "cell_type": "markdown",
   "metadata": {
    "deletable": false,
    "editable": false,
    "nbgrader": {
     "cell_type": "markdown",
     "checksum": "d47de8a48f291e23ebe67690546dc5b9",
     "grade": false,
     "grade_id": "cell-078abcdc4257fb89",
     "locked": true,
     "schema_version": 3,
     "solution": false,
     "task": false
    }
   },
   "source": [
    "## Problem 3: Calculating a goodness-of-fit (3.5 points)\n",
    "\n",
    "The final part of the exercise this week is to calculate a goodness-of-fit for the lines fit to the data in Problem 1. The idea here is to consider that we have an expected value of the temperature based on our least-squares regressions, and we can see how well those expected values fit within the standard deviation of the seasonal temperatures.\n",
    "\n",
    "### Scores for this problem\n",
    "\n",
    "**Your score on this problem will be based on following criteria**:\n",
    "\n",
    "- Properly converting the goodness-of-fit formula to a Python function and adding that function to your `introqg_functions.py` script file\n",
    "- Calculating goodness-of-fit values for summer and winter and for the two different time periods\n",
    "- Including comments that explain what most lines in the code do\n",
    "- Uploading your notebook and modified script file to your GitHub repository for this week's exercise"
   ]
  },
  {
   "cell_type": "markdown",
   "metadata": {
    "deletable": false,
    "editable": false,
    "nbgrader": {
     "cell_type": "markdown",
     "checksum": "3be9bb8d5b7aa6787bc1022f78575466",
     "grade": false,
     "grade_id": "cell-78e23624db7b4962",
     "locked": true,
     "schema_version": 3,
     "solution": false,
     "task": false
    }
   },
   "source": [
    "### Part 1: A goodness-of-fit function (1.5 points)\n",
    "\n",
    "We can start by creating a function to calculate the goodness-of-fit. For this, you can use the reduced chi-squared equation,\n",
    "\n",
    "\\begin{equation}\n",
    "  \\Large\n",
    "  \\chi^{2} = \\frac{1}{N} \\sum \\frac{(O_{i} - E_{i})^{2}}{\\sigma_{i}^2}\n",
    "\\end{equation}\n",
    "\n",
    "where $N$ is the number of ages, $O_{i}$ is the $i$th observed value, $E_{i}$ is the $i$th expected value, and $\\sigma_{i}$ is the $i$th standard deviation.\n",
    "\n",
    "For this part you should:\n",
    "\n",
    "- Create a function called `chi_squared` in your `introqg_functions.py` script file that can be used to calculate the reduced chi-squared value"
   ]
  },
  {
   "cell_type": "code",
   "execution_count": 19,
   "metadata": {
    "deletable": false,
    "nbgrader": {
     "cell_type": "code",
     "checksum": "c9fd516a2828519384ba3ba1744c35af",
     "grade": false,
     "grade_id": "problem_3_ag_p1_function",
     "locked": false,
     "schema_version": 3,
     "solution": true,
     "task": false
    },
    "tags": []
   },
   "outputs": [],
   "source": [
    "# Import your new function below using the format \"from introqg_functions import chi_squared\"\n",
    "# (just copy and paste the text in quotes above in place of \"raise NotImplementedError()\")\n",
    "\n",
    "# YOUR CODE HERE\n",
    "from introqg_functions import chi_squared\n",
    "#raise NotImplementedError()"
   ]
  },
  {
   "cell_type": "code",
   "execution_count": 20,
   "metadata": {
    "deletable": false,
    "editable": false,
    "nbgrader": {
     "cell_type": "code",
     "checksum": "322f4d7844028256799ac5c389073a09",
     "grade": true,
     "grade_id": "problem_3_ag_p1_function_tests",
     "locked": true,
     "points": 1.5,
     "schema_version": 3,
     "solution": false,
     "task": false
    },
    "tags": []
   },
   "outputs": [
    {
     "name": "stdout",
     "output_type": "stream",
     "text": [
      "Goodness-of-fit for dataset 1: 1.2340.\n",
      "Goodness-of-fit for dataset 2: 2.6139.\n"
     ]
    }
   ],
   "source": [
    "# These visible tests with fake data should work\n",
    "from nose.tools import ok_, assert_equal\n",
    "\n",
    "# Fake data\n",
    "obs1 = np.array([1.1, 2.9, 2.6, 3.5, 5.7, 2.8])\n",
    "exp1 = np.array([1.5, 2.4, 3.6, 1.5, 6.7, 2.6])\n",
    "std1 = np.array([0.5, 1.4, 0.6, 1.5, 0.7, 1.0])\n",
    "\n",
    "obs2 = np.array([1.8, 2.3, 2.2, 3.9, 5.5, 2.4])\n",
    "exp2 = np.array([1.2, 2.0, 3.9, 1.7, 6.1, 2.9])\n",
    "std2 = np.array([0.2, 0.4, 1.6, 2.5, 0.5, 0.3])\n",
    "\n",
    "# Fake goodness-of-fit values\n",
    "cs1 = chi_squared(obs1, exp1, std1)\n",
    "cs2 = chi_squared(obs2, exp2, std2)\n",
    "\n",
    "# Print results\n",
    "print(f\"Goodness-of-fit for dataset 1: {cs1:.4f}.\")\n",
    "print(f\"Goodness-of-fit for dataset 2: {cs2:.4f}.\")\n",
    "\n",
    "# Check that the chi-squared function works\n",
    "assert_equal(round(cs1, 4), 1.2340)\n",
    "assert_equal(round(cs2, 4), 2.6139)"
   ]
  },
  {
   "cell_type": "markdown",
   "metadata": {
    "deletable": false,
    "editable": false,
    "nbgrader": {
     "cell_type": "markdown",
     "checksum": "a4993c3b67ba94ba97ee6d8a7cdbb2bf",
     "grade": false,
     "grade_id": "cell-93543a9877453a0c",
     "locked": true,
     "schema_version": 3,
     "solution": false,
     "task": false
    }
   },
   "source": [
    "### Part 2: Calculating goodness-of-fit (2 points)\n",
    "\n",
    "Next, we can calculate the goodness-of-fit for each point along our line and the corresponding observed seasonal mean temperaure. We will do this by first creating arrays of expected temperature values for each season and time period, and then calculating the goodness-of-fit between those expected values and the observed temperatures.\n",
    "\n",
    "- Create 4 arrays that contain the expected temperature value for each year based on the equation for the regression lines calculated in Problem 1\n",
    "    - The variables `exp_winter` and `exp_summer` can be used for all years, while `exp_winter20` and `exp_summer20` can be used for the last 20 years\n",
    "- Calculate the goodness-of-fit between the expected values and the observed mean seasonal temperatures\n",
    "    - The variables `gof_winter` and `gof_summer` can be used for all years, while `gof_winter20` and `gof_summer20` can be used for the last 20 years"
   ]
  },
  {
   "cell_type": "code",
   "execution_count": 21,
   "metadata": {
    "deletable": false,
    "nbgrader": {
     "cell_type": "code",
     "checksum": "eba3892441cfb7d78e75cfebf6d9eb0a",
     "grade": false,
     "grade_id": "problem_3_ag_p2_values",
     "locked": false,
     "schema_version": 3,
     "solution": true,
     "task": false
    },
    "tags": []
   },
   "outputs": [],
   "source": [
    "# Expected temperatures based on least-squares regression in Problem 1\n",
    "exp_winter = None\n",
    "exp_summer = None\n",
    "exp_winter20 = None\n",
    "exp_summer20 = None\n",
    "\n",
    "# Goodness-of-fit values\n",
    "gof_winter = None\n",
    "gof_summer = None\n",
    "gof_winter20 = None\n",
    "gof_summer20 = None\n",
    "\n",
    "# YOUR CODE HERE\n",
    "# Calculate expected temperatures for all years\n",
    "years = data['Year'].values\n",
    "winter_means = data['Winter mean'].values\n",
    "winter_stds = data['Winter std'].values\n",
    "summer_means = data['Summer mean'].values\n",
    "summer_stds = data['Summer std'].values\n",
    "exp_winter = A_winter + B_winter * years\n",
    "exp_summer = A_summer + B_summer * years\n",
    "# Calculate expected temperatures for the last 20 years\n",
    "exp_winter20 = A_winter20 + B_winter20 * recent_years\n",
    "exp_summer20 = A_summer20 + B_summer20 * recent_years\n",
    "# Goodness-of-fit values for all years\n",
    "gof_winter = chi_squared(winter_means, exp_winter, winter_stds)\n",
    "gof_summer = chi_squared(summer_means, exp_summer, summer_stds)\n",
    "# Goodness-of-fit values for the last 20 years\n",
    "gof_winter20 = chi_squared(recent_winter_means, exp_winter20, winter_stds[years >= 2000])\n",
    "gof_summer20 = chi_squared(recent_summer_means, exp_summer20, summer_stds[years >= 2000])\n",
    "#raise NotImplementedError()"
   ]
  },
  {
   "cell_type": "code",
   "execution_count": 22,
   "metadata": {
    "deletable": false,
    "editable": false,
    "nbgrader": {
     "cell_type": "code",
     "checksum": "c6ed9c9fc2e13ba461193105e4dd792b",
     "grade": true,
     "grade_id": "problem_3_ag_p2_values_tests1",
     "locked": true,
     "points": 1,
     "schema_version": 3,
     "solution": false,
     "task": false
    },
    "tags": []
   },
   "outputs": [
    {
     "name": "stdout",
     "output_type": "stream",
     "text": [
      "My mean expected winter temperature: -4.7524. Expected value: -4.7524.\n"
     ]
    }
   ],
   "source": [
    "# This test should work\n",
    "print(f\"My mean expected winter temperature: {mean(exp_winter):.4f}. Expected value: -4.7524.\")\n"
   ]
  },
  {
   "cell_type": "code",
   "execution_count": 23,
   "metadata": {
    "deletable": false,
    "editable": false,
    "nbgrader": {
     "cell_type": "code",
     "checksum": "5a3e413d37bd83bc6b12fc1bc41862f2",
     "grade": true,
     "grade_id": "problem_3_ag_p2_values_tests2",
     "locked": true,
     "points": 1,
     "schema_version": 3,
     "solution": false,
     "task": false
    },
    "tags": []
   },
   "outputs": [
    {
     "name": "stdout",
     "output_type": "stream",
     "text": [
      "My summer (all years) goodness-of-fit: 0.0653. Expected value: 0.0653.\n"
     ]
    }
   ],
   "source": [
    "# This test should work\n",
    "print(f\"My summer (all years) goodness-of-fit: {gof_summer:.4f}. Expected value: 0.0653.\")\n"
   ]
  },
  {
   "cell_type": "code",
   "execution_count": 24,
   "metadata": {
    "deletable": false,
    "editable": false,
    "nbgrader": {
     "cell_type": "code",
     "checksum": "16a3773f5eea16fb7d7b1fd2ac673879",
     "grade": false,
     "grade_id": "cell-8f125f97726bfce5",
     "locked": true,
     "schema_version": 3,
     "solution": false,
     "task": false
    },
    "tags": []
   },
   "outputs": [
    {
     "name": "stdout",
     "output_type": "stream",
     "text": [
      "My winter goodness-of-fit values:\n",
      "    All years:     0.2292\n",
      "    Last 20 years: 0.2208\n",
      "\n",
      "My summer goodness-of-fit values:\n",
      "    All years:     0.0653\n",
      "    Last 20 years: 0.0634\n"
     ]
    }
   ],
   "source": [
    "# Run this cell to print all of your calculated goodness-of-fit values\n",
    "print(f\"My winter goodness-of-fit values:\\n    All years:     {gof_winter:.4f}\\n    Last 20 years: {gof_winter20:.4f}\\n\")\n",
    "print(f\"My summer goodness-of-fit values:\\n    All years:     {gof_summer:.4f}\\n    Last 20 years: {gof_summer20:.4f}\")"
   ]
  },
  {
   "cell_type": "markdown",
   "metadata": {
    "deletable": false,
    "editable": false,
    "nbgrader": {
     "cell_type": "markdown",
     "checksum": "d62ab907d64ce358b9487dce9d3d92b5",
     "grade": false,
     "grade_id": "cell-87820fee32bff471",
     "locked": true,
     "schema_version": 3,
     "solution": false,
     "task": false
    }
   },
   "source": [
    "## Summary questions for Exercise 2 (2 points; 0.5 points each)\n",
    "\n",
    "Answer the questions below in a few sentences.\n",
    "\n",
    "1. Based on the least-squares regressions calculated in Problem 1, how have summer and winter temperatures changed in Helsinki over the time 1953-2019? Is the trend similar for both seasons? What about when you consider only the data over the last 20 years? Do you have any first-hand experience that relates to these temperature trends? If so, what?\n",
    "2. Based on the calculation of the correlation coefficients in Problem 2, how well does it seem the data are fit by a line? Are there any significant differences between seasons or time periods in the calculated $r$ values?\n",
    "3. Looking at the goodness-of-fit values calculated in Problem 3, how well does it appear the data are fit by a regression line? Do you see differences between seasons ot time period considered? \n",
    "4. Comparing the calculated $\\chi^{2}$ values from Problem 3 to the $r$ values in Problem 2, what differences do you see in the numbers between seasons and/or time periods? Can you think of reasons why the $r$ and $\\chi^{2}$ values might differ in terms of their relative values in each season/time period? How are the $r$ and $\\chi^{2}$ values different in terms of what they measure?"
   ]
  },
  {
   "cell_type": "markdown",
   "metadata": {
    "deletable": false,
    "nbgrader": {
     "cell_type": "markdown",
     "checksum": "b60be3b337c27d44f1f9bf38dc17346b",
     "grade": true,
     "grade_id": "exercise_2_mg_questions",
     "locked": false,
     "points": 2,
     "schema_version": 3,
     "solution": true
    }
   },
   "source": [
    "1. From the least-squares regressions for 1953-2019, winter temperatures in Helsinki show a positive trend, indicating a gradual increase over the years. Summer temperatures also show a rising trend, but it's less steep than for winter temperatures. When considering the last 20 years, the winter temperature trend shows a sharper increase. This accelerated warming in recent years is consistent with broader observations of climate change. Personally, I have noticed milder winters and less snow in recent years, which aligns with this data.\n",
    "\n",
    "2. The correlation coefficients indicate that there is a positive correlation for both seasons, but the strength of this relationship varies. For winter temperatures over all the years observed an r-value of 0.3145 suggests a moderate positive correlation. This indicates that there is a somewhat consistent linear relationship between time and winter temperatures, as time progresses winter temperatures also tend to increase to some extent. For summer temperatures over the last 20 years, an r-value of 0.0148 indicates a very weak positive correlation. This suggests that there is hardly any linear relationship between time and summer temperatures during this period, implying that the summer temperatures have not consistently increased or decreased with time over these two decades.\n",
    "\n",
    "3. The goodness-of-fit values suggest that the regression line fits the winter data reasonably well in general for both the full period and the last 20 years although it's not a perfect fit, the goodness-of-fit values for all years are slightly higher than last 20 years. For winter temperatures over the entire observation period, the goodness-of-fit value is 0.2292, while for the last 20 years it is slightly lower at 0.2208. This suggests that the regression line is a better fit for the more recent winter data compared to the entire period, although the difference is not substantial. This could indicate that the variability in winter temperatures may have decreased slightly in the last 20 years or that the trend line is capturing the changes in winter temperatures slightly better in this more recent period. For summer temperatures, the goodness-of-fit values are quite low (0.0653 for all years and 0.0634 for the last 20 years), which indicates that the regression line is a good fit for the data in both time periods. The small decrease in the goodness-of-fit value in the last 20 years suggests that the regression line fits the more recent summer temperature data slightly better than it does for the entire observation period.\n",
    "\n",
    "4. The $\\chi^{2}$ values are generally higher for winter than for summer, indicating a better fit for winter data. The difference between $\\chi^{2}$ and $r$ values in each season/time period might be due to the fact that $r$ measures the strength and direction of a linear relationship, while $\\chi^{2}$ assesses how well the observed outcomes are predicted by the model, taking into account the variability of the data. The $r$ value will not change based on the scale of the data, but $\\chi^{2}$ will might change as it is influenced by the magnitude of the deviations and the precision of the measurements represents by the standard deviations. Also, extreme values or outliers will affect the $\\chi^{2}$ more significantly because it is based on squared differences. The $r$ value that being a measure of linear correlation is less influenced by single outliers, although it can still be affected if there are enough of them or if they are extreme enough.\n"
   ]
  }
 ],
 "metadata": {
  "kernelspec": {
   "display_name": "Python 3 (ipykernel)",
   "language": "python",
   "name": "python3"
  },
  "language_info": {
   "codemirror_mode": {
    "name": "ipython",
    "version": 3
   },
   "file_extension": ".py",
   "mimetype": "text/x-python",
   "name": "python",
   "nbconvert_exporter": "python",
   "pygments_lexer": "ipython3",
   "version": "3.10.12"
  }
 },
 "nbformat": 4,
 "nbformat_minor": 4
}
